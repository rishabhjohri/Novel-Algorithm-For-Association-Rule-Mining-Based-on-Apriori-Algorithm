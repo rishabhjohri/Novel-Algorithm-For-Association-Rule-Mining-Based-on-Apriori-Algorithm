{
 "cells": [
  {
   "cell_type": "code",
   "execution_count": 2,
   "metadata": {},
   "outputs": [],
   "source": [
    "data = [\n",
    "        ['T100',['I1','I2','I5']],\n",
    "        ['T200',['I2','I4']],\n",
    "        ['T300',['I2','I3']],\n",
    "        ['T400',['I1','I2','I4']],\n",
    "        ['T500',['I1','I3']],\n",
    "        ['T600',['I2','I3']],\n",
    "        ['T700',['I1','I3']],\n",
    "        ['T800',['I1','I2','I3','I5']],\n",
    "        ['T900',['I1','I2','I3']]\n",
    "        ]"
   ]
  },
  {
   "cell_type": "code",
   "execution_count": 3,
   "metadata": {},
   "outputs": [
    {
     "name": "stdout",
     "output_type": "stream",
     "text": [
      "['I1', 'I2', 'I3', 'I4', 'I5']\n"
     ]
    }
   ],
   "source": [
    "init = []\n",
    "for i in data:\n",
    "    for q in i[1]:\n",
    "        if(q not in init):\n",
    "            init.append(q)\n",
    "init = sorted(init)\n",
    "print(init)"
   ]
  },
  {
   "cell_type": "code",
   "execution_count": 4,
   "metadata": {},
   "outputs": [],
   "source": [
    "# Minimum Support"
   ]
  },
  {
   "cell_type": "code",
   "execution_count": 5,
   "metadata": {},
   "outputs": [
    {
     "data": {
      "text/plain": [
       "2"
      ]
     },
     "execution_count": 5,
     "metadata": {},
     "output_type": "execute_result"
    }
   ],
   "source": [
    "sp = 0.4\n",
    "s = int(sp*len(init))\n",
    "s"
   ]
  },
  {
   "cell_type": "code",
   "execution_count": 6,
   "metadata": {},
   "outputs": [
    {
     "name": "stdout",
     "output_type": "stream",
     "text": [
      "C1:\n"
     ]
    }
   ],
   "source": [
    "from collections import Counter\n",
    "\n",
    "c = Counter()\n",
    "for i in init:\n",
    "    for d in data:\n",
    "        if(i in d[1]):\n",
    "            c[i]+=1\n",
    "print(\"C1:\")"
   ]
  },
  {
   "cell_type": "code",
   "execution_count": 7,
   "metadata": {},
   "outputs": [
    {
     "name": "stdout",
     "output_type": "stream",
     "text": [
      "['I1']: 6\n",
      "['I2']: 7\n",
      "['I3']: 6\n",
      "['I4']: 2\n",
      "['I5']: 2\n",
      "\n"
     ]
    }
   ],
   "source": [
    "for i in c:\n",
    "    print(str([i])+\": \"+str(c[i]))\n",
    "print()\n",
    "l = Counter()"
   ]
  },
  {
   "cell_type": "code",
   "execution_count": 8,
   "metadata": {},
   "outputs": [
    {
     "name": "stdout",
     "output_type": "stream",
     "text": [
      "L1:\n"
     ]
    }
   ],
   "source": [
    "for i in c:\n",
    "    if(c[i] >= s):\n",
    "        l[frozenset([i])]+=c[i]\n",
    "print(\"L1:\")"
   ]
  },
  {
   "cell_type": "code",
   "execution_count": 9,
   "metadata": {},
   "outputs": [
    {
     "name": "stdout",
     "output_type": "stream",
     "text": [
      "['I1']: 6\n",
      "['I2']: 7\n",
      "['I3']: 6\n",
      "['I4']: 2\n",
      "['I5']: 2\n",
      "\n"
     ]
    }
   ],
   "source": [
    "for i in l:\n",
    "    print(str(list(i))+\": \"+str(l[i]))\n",
    "print()\n",
    "pl = l\n",
    "pos = 1"
   ]
  },
  {
   "cell_type": "code",
   "execution_count": 10,
   "metadata": {},
   "outputs": [
    {
     "name": "stdout",
     "output_type": "stream",
     "text": [
      "C2:\n",
      "['I4', 'I3']: 0\n",
      "['I4', 'I2']: 2\n",
      "['I5', 'I3']: 1\n",
      "['I1', 'I4']: 1\n",
      "['I2', 'I5']: 2\n",
      "['I1', 'I2']: 4\n",
      "['I2', 'I3']: 4\n",
      "['I1', 'I3']: 4\n",
      "['I1', 'I5']: 2\n",
      "['I4', 'I5']: 0\n",
      "\n",
      "L2:\n",
      "['I4', 'I2']: 2\n",
      "['I2', 'I5']: 2\n",
      "['I1', 'I2']: 4\n",
      "['I2', 'I3']: 4\n",
      "['I1', 'I3']: 4\n",
      "['I1', 'I5']: 2\n",
      "\n",
      "C3:\n",
      "['I1', 'I5', 'I3']: 1\n",
      "['I4', 'I2', 'I5']: 0\n",
      "['I1', 'I2', 'I3']: 2\n",
      "['I4', 'I2', 'I3']: 0\n",
      "['I1', 'I2', 'I5']: 2\n",
      "['I1', 'I4', 'I2']: 1\n",
      "['I2', 'I5', 'I3']: 1\n",
      "\n",
      "L3:\n",
      "['I1', 'I2', 'I3']: 2\n",
      "['I1', 'I2', 'I5']: 2\n",
      "\n",
      "C4:\n",
      "['I2', 'I1', 'I5', 'I3']: 1\n",
      "\n",
      "L4:\n",
      "\n"
     ]
    }
   ],
   "source": [
    "for count in range (2,1000):\n",
    "    nc = set()\n",
    "    temp = list(l)\n",
    "    for i in range(0,len(temp)):\n",
    "        for j in range(i+1,len(temp)):\n",
    "            t = temp[i].union(temp[j])\n",
    "            if(len(t) == count):\n",
    "                nc.add(temp[i].union(temp[j]))\n",
    "    nc = list(nc)\n",
    "    c = Counter()\n",
    "    for i in nc:\n",
    "        c[i] = 0\n",
    "        for q in data:\n",
    "            temp = set(q[1])\n",
    "            if(i.issubset(temp)):\n",
    "                c[i]+=1\n",
    "    print(\"C\"+str(count)+\":\")\n",
    "    for i in c:\n",
    "        print(str(list(i))+\": \"+str(c[i]))\n",
    "    print()\n",
    "    l = Counter()\n",
    "    for i in c:\n",
    "        if(c[i] >= s):\n",
    "            l[i]+=c[i]\n",
    "    print(\"L\"+str(count)+\":\")\n",
    "    for i in l:\n",
    "        print(str(list(i))+\": \"+str(l[i]))\n",
    "    print()\n",
    "    if(len(l) == 0):\n",
    "        break\n",
    "    pl = l\n",
    "    pos = count\n"
   ]
  },
  {
   "cell_type": "code",
   "execution_count": 11,
   "metadata": {},
   "outputs": [
    {
     "name": "stdout",
     "output_type": "stream",
     "text": [
      "Result: \n",
      "L3:\n"
     ]
    }
   ],
   "source": [
    "print(\"Result: \")\n",
    "print(\"L\"+str(pos)+\":\")"
   ]
  },
  {
   "cell_type": "code",
   "execution_count": 12,
   "metadata": {},
   "outputs": [
    {
     "name": "stdout",
     "output_type": "stream",
     "text": [
      "['I1', 'I2', 'I3']: 2\n",
      "['I1', 'I2', 'I5']: 2\n",
      "\n"
     ]
    }
   ],
   "source": [
    "for i in pl:\n",
    "    print(str(list(i))+\": \"+str(pl[i]))\n",
    "print()\n"
   ]
  },
  {
   "cell_type": "code",
   "execution_count": 13,
   "metadata": {},
   "outputs": [
    {
     "name": "stdout",
     "output_type": "stream",
     "text": [
      "['I1', 'I2'] -> ['I3'] = 50.0%\n",
      "['I3'] -> ['I1', 'I2'] = 33.33333333333333%\n",
      "['I1', 'I3'] -> ['I2'] = 50.0%\n",
      "['I2'] -> ['I1', 'I3'] = 28.57142857142857%\n",
      "['I2', 'I3'] -> ['I1'] = 50.0%\n",
      "['I1'] -> ['I2', 'I3'] = 33.33333333333333%\n",
      "choosing: 1 3 5 \n",
      "\n",
      "['I1', 'I2'] -> ['I5'] = 50.0%\n",
      "['I5'] -> ['I1', 'I2'] = 100.0%\n",
      "['I1', 'I5'] -> ['I2'] = 100.0%\n",
      "['I2'] -> ['I1', 'I5'] = 28.57142857142857%\n",
      "['I2', 'I5'] -> ['I1'] = 100.0%\n",
      "['I1'] -> ['I2', 'I5'] = 33.33333333333333%\n",
      "choosing: 2 3 5 \n",
      "\n"
     ]
    }
   ],
   "source": [
    "from itertools import combinations\n",
    "for l in pl:\n",
    "    c = [frozenset(q) for q in combinations(l,len(l)-1)]\n",
    "    mmax = 0\n",
    "    for a in c:\n",
    "        b = l-a\n",
    "        ab = l\n",
    "        sab = 0\n",
    "        sa = 0\n",
    "        sb = 0\n",
    "        for q in data:\n",
    "            temp = set(q[1])\n",
    "            if(a.issubset(temp)):\n",
    "                sa+=1\n",
    "            if(b.issubset(temp)):\n",
    "                sb+=1\n",
    "            if(ab.issubset(temp)):\n",
    "                sab+=1\n",
    "        temp = sab/sa*100\n",
    "        if(temp > mmax):\n",
    "            mmax = temp\n",
    "        temp = sab/sb*100\n",
    "        if(temp > mmax):\n",
    "            mmax = temp\n",
    "        print(str(list(a))+\" -> \"+str(list(b))+\" = \"+str(sab/sa*100)+\"%\")\n",
    "        print(str(list(b))+\" -> \"+str(list(a))+\" = \"+str(sab/sb*100)+\"%\")\n",
    "    curr = 1\n",
    "    print(\"choosing:\", end=' ')\n",
    "    for a in c:\n",
    "        b = l-a\n",
    "        ab = l\n",
    "        sab = 0\n",
    "        sa = 0\n",
    "        sb = 0\n",
    "        for q in data:\n",
    "            temp = set(q[1])\n",
    "            if(a.issubset(temp)):\n",
    "                sa+=1\n",
    "            if(b.issubset(temp)):\n",
    "                sb+=1\n",
    "            if(ab.issubset(temp)):\n",
    "                sab+=1\n",
    "        temp = sab/sa*100\n",
    "        if(temp == mmax):\n",
    "            print(curr, end = ' ')\n",
    "        curr += 1\n",
    "        temp = sab/sb*100\n",
    "        if(temp == mmax):\n",
    "            print(curr, end = ' ')\n",
    "        curr += 1\n",
    "    print()\n",
    "    print()"
   ]
  },
  {
   "cell_type": "code",
   "execution_count": null,
   "metadata": {},
   "outputs": [],
   "source": [
    "########################################## NEW APPROACH : LIFT ################################################3"
   ]
  },
  {
   "cell_type": "code",
   "execution_count": 14,
   "metadata": {},
   "outputs": [
    {
     "name": "stdout",
     "output_type": "stream",
     "text": [
      "['I1', 'I2'] -> ['I3'] = 8.333333333333332%\n",
      "['I3'] -> ['I1', 'I2'] = 8.333333333333332%\n",
      "['I1', 'I3'] -> ['I2'] = 7.142857142857142%\n",
      "['I2'] -> ['I1', 'I3'] = 7.142857142857142%\n",
      "['I2', 'I3'] -> ['I1'] = 8.333333333333332%\n",
      "['I1'] -> ['I2', 'I3'] = 8.333333333333332%\n",
      "choosing: 1 2 5 6 \n",
      "\n",
      "['I1', 'I2'] -> ['I5'] = 25.0%\n",
      "['I5'] -> ['I1', 'I2'] = 25.0%\n",
      "['I1', 'I5'] -> ['I2'] = 14.285714285714285%\n",
      "['I2'] -> ['I1', 'I5'] = 14.285714285714285%\n",
      "['I2', 'I5'] -> ['I1'] = 16.666666666666664%\n",
      "['I1'] -> ['I2', 'I5'] = 16.666666666666664%\n",
      "choosing: 1 2 \n",
      "\n"
     ]
    }
   ],
   "source": [
    "from itertools import combinations\n",
    "for l in pl:\n",
    "    c = [frozenset(q) for q in combinations(l,len(l)-1)]\n",
    "    mmax = 0\n",
    "    for a in c:\n",
    "        b = l-a\n",
    "        ab = l\n",
    "        sab = 0\n",
    "        sa = 0\n",
    "        sb = 0\n",
    "        for q in data:\n",
    "            temp = set(q[1])\n",
    "            if(a.issubset(temp)):\n",
    "                sa+=1\n",
    "            if(b.issubset(temp)):\n",
    "                sb+=1\n",
    "            if(ab.issubset(temp)):\n",
    "                sab+=1\n",
    "        temp = sab/(sa*sb)*100 #lift(A->B) = Sab/(Sa*Sb)*100 \n",
    "        if(temp > mmax):\n",
    "            mmax = temp\n",
    "        temp = sab/(sb*sa)*100 #lift(A->B) = Sab/(Sa*Sb)*100\n",
    "        if(temp > mmax):\n",
    "            mmax = temp\n",
    "        print(str(list(a))+\" -> \"+str(list(b))+\" = \"+str(sab/(sa*sb)*100)+\"%\")\n",
    "        print(str(list(b))+\" -> \"+str(list(a))+\" = \"+str(sab/(sb*sa)*100)+\"%\")\n",
    "    curr = 1\n",
    "    print(\"choosing:\", end=' ')\n",
    "    for a in c:\n",
    "        b = l-a\n",
    "        ab = l\n",
    "        sab = 0\n",
    "        sa = 0\n",
    "        sb = 0\n",
    "        for q in data:\n",
    "            temp = set(q[1])\n",
    "            if(a.issubset(temp)):\n",
    "                sa+=1\n",
    "            if(b.issubset(temp)):\n",
    "                sb+=1\n",
    "            if(ab.issubset(temp)):\n",
    "                sab+=1\n",
    "        temp = sab/(sa*sb)*100 #lift(A->B) = Sab/(Sa*Sb)*100\n",
    "        if(temp == mmax):\n",
    "            print(curr, end = ' ')\n",
    "        curr += 1\n",
    "        temp = sab/(sb*sa)*100 #lift(A->B) = Sab/(Sa*Sb)*100\n",
    "        if(temp == mmax):\n",
    "            print(curr, end = ' ')\n",
    "        curr += 1\n",
    "    print()\n",
    "    print()"
   ]
  },
  {
   "cell_type": "code",
   "execution_count": null,
   "metadata": {},
   "outputs": [],
   "source": []
  }
 ],
 "metadata": {
  "kernelspec": {
   "display_name": "Python 3",
   "language": "python",
   "name": "python3"
  },
  "language_info": {
   "codemirror_mode": {
    "name": "ipython",
    "version": 3
   },
   "file_extension": ".py",
   "mimetype": "text/x-python",
   "name": "python",
   "nbconvert_exporter": "python",
   "pygments_lexer": "ipython3",
   "version": "3.7.3"
  }
 },
 "nbformat": 4,
 "nbformat_minor": 2
}
